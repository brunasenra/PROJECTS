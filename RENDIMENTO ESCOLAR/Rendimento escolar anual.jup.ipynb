{
 "cells": [
  {
   "cell_type": "markdown",
   "metadata": {},
   "source": [
    "Programa para professores com cálculo de rendimento anual da turma."
   ]
  },
  {
   "cell_type": "markdown",
   "metadata": {},
   "source": [
    "Antes de começar, você deve ter em mãos:\n",
    "* Nome do professor(a);\n",
    "* Nome da disciplina;\n",
    "* Nome da turma;\n",
    "* Número total de alunos da turma;\n",
    "       ## Número de avalições (FUTURO);\n",
    "* Peso de cada avaliação (caso todas tenham o mesmo peso, coloque 1 para todas);\n",
    "* Número total de aulas;\n",
    "* Nomes dos alunos;\n",
    "* Notas de todas as avaliações;\n",
    "* Número de faltas dos alunos;"
   ]
  },
  {
   "cell_type": "code",
   "execution_count": 1,
   "metadata": {},
   "outputs": [],
   "source": [
    "import numpy as np\n",
    "import pandas as pd\n",
    "\n",
    "# importação de data/hora\n",
    "from datetime import date\n",
    "\n",
    "# exportação de tabelas excel\n",
    "import openpyxl as op\n",
    "\n",
    "# para gráficos e desenhos\n",
    "import matplotlib\n",
    "import matplotlib.pyplot as plt\n",
    "%matplotlib inline\n",
    "from matplotlib import colors\n",
    "from matplotlib.ticker import PercentFormatter"
   ]
  },
  {
   "cell_type": "code",
   "execution_count": 2,
   "metadata": {},
   "outputs": [],
   "source": [
    "repetir = 0\n",
    "total = 0\n",
    "valid_nota = False\n",
    "valid_peso1 = False\n",
    "valid_peso2 = False\n",
    "valid_p1 = False\n",
    "valid_p2 = False\n",
    "valid_aulas = False\n",
    "valid_faltas = False\n",
    "valid_alunos = False\n",
    "valid_pr = False\n",
    "\n",
    "nomes_alunos = []\n",
    "p1_alunos = []\n",
    "p2_alunos = []\n",
    "pr_alunos = []\n",
    "nf_alunos = []\n",
    "assid_alunos = []\n",
    "result_alunos = []"
   ]
  },
  {
   "cell_type": "code",
   "execution_count": 3,
   "metadata": {},
   "outputs": [
    {
     "name": "stdout",
     "output_type": "stream",
     "text": [
      "Digite o nome do professor(a): Nelma R.\n"
     ]
    }
   ],
   "source": [
    "professor = input('Digite o nome do professor(a): ')"
   ]
  },
  {
   "cell_type": "code",
   "execution_count": 4,
   "metadata": {},
   "outputs": [
    {
     "name": "stdout",
     "output_type": "stream",
     "text": [
      "Digite o nome da disciplina: Língua Portuguesa\n"
     ]
    }
   ],
   "source": [
    "disciplina = input('Digite o nome da disciplina: ')"
   ]
  },
  {
   "cell_type": "code",
   "execution_count": 5,
   "metadata": {},
   "outputs": [
    {
     "name": "stdout",
     "output_type": "stream",
     "text": [
      "Digite a turma(ex:602): 92\n"
     ]
    }
   ],
   "source": [
    "turma = input('Digite a turma(ex:602): ')"
   ]
  },
  {
   "cell_type": "markdown",
   "metadata": {},
   "source": [
    "Validação de quantitativo de alunos da turma:"
   ]
  },
  {
   "cell_type": "code",
   "execution_count": 6,
   "metadata": {},
   "outputs": [
    {
     "name": "stdout",
     "output_type": "stream",
     "text": [
      "digite o número total de alunos da turma: 32\n"
     ]
    }
   ],
   "source": [
    "while valid_alunos == False:\n",
    "    alunos = input('digite o número total de alunos da turma: ')\n",
    "    try:\n",
    "        alunos = int(alunos)\n",
    "\n",
    "        if alunos <= 0:\n",
    "            print('O peso precisa ser maior do que zero')\n",
    "        else:\n",
    "            valid_alunos = True\n",
    "    except:\n",
    "        print('Formato de peso inválido. Use apenas números inteiros, sem decimais.')\n"
   ]
  },
  {
   "cell_type": "markdown",
   "metadata": {},
   "source": [
    "validação de dados para o peso da avaliação 1:"
   ]
  },
  {
   "cell_type": "code",
   "execution_count": 7,
   "metadata": {},
   "outputs": [
    {
     "name": "stdout",
     "output_type": "stream",
     "text": [
      "digite o peso da primeira prova: 1\n"
     ]
    }
   ],
   "source": [
    "while valid_peso1 == False:\n",
    "    peso1 = input('digite o peso da primeira prova: ')\n",
    "    try:\n",
    "        peso1 = float(peso1)\n",
    "\n",
    "        if peso1 <= 0:\n",
    "            print('O peso precisa ser maior do que zero')\n",
    "        else:\n",
    "            valid_peso1 = True\n",
    "    except:\n",
    "        print('Formato de peso inválido. Use apenas números e decimais separados por ponto.')\n",
    "\n"
   ]
  },
  {
   "cell_type": "markdown",
   "metadata": {},
   "source": [
    "validação de dados para o peso da avaliação 2:"
   ]
  },
  {
   "cell_type": "code",
   "execution_count": 8,
   "metadata": {},
   "outputs": [
    {
     "name": "stdout",
     "output_type": "stream",
     "text": [
      "digite o peso da segunda prova: 1\n"
     ]
    }
   ],
   "source": [
    "while valid_peso2 == False:\n",
    "    peso2 = input('digite o peso da segunda prova: ')\n",
    "    try:\n",
    "        peso2 = float(peso2)\n",
    "\n",
    "        if peso2 <= 0:\n",
    "            print('O peso precisa ser maior do que zero')\n",
    "        else:\n",
    "            valid_peso2 = True\n",
    "    except:\n",
    "        print('Formato de peso inválido. Use apenas números e decimais separados por ponto.')\n"
   ]
  },
  {
   "cell_type": "markdown",
   "metadata": {},
   "source": [
    "validação de dados para o quantitativo de aulas:"
   ]
  },
  {
   "cell_type": "code",
   "execution_count": 9,
   "metadata": {},
   "outputs": [
    {
     "name": "stdout",
     "output_type": "stream",
     "text": [
      "digite o número total de aulas: 36\n"
     ]
    }
   ],
   "source": [
    "while valid_aulas == False:\n",
    "    aulas = input('digite o número total de aulas: ')\n",
    "    try:\n",
    "        aulas = int(aulas)\n",
    "\n",
    "        if aulas <= 0:\n",
    "            print('O número de aulas precisa ser maior que 0.')\n",
    "        else:\n",
    "            valid_aulas = True\n",
    "    except:\n",
    "        print('Formato inválido. Use apenas números inteiros, sem decimais.')\n"
   ]
  },
  {
   "cell_type": "code",
   "execution_count": 10,
   "metadata": {},
   "outputs": [
    {
     "name": "stdout",
     "output_type": "stream",
     "text": [
      "\n",
      "digite o nome do aluno: allana\n",
      "digite a nota da primeira prova: 4.5\n",
      "digite a nota da segunda prova: 6\n",
      "digite o número total de faltas do aluno: 5\n",
      "Resultado: Aluno em Recuperação\n",
      "digite a nota da prova final: 9\n",
      "\n",
      "digite o nome do aluno: arthur\n",
      "digite a nota da primeira prova: 4\n",
      "digite a nota da segunda prova: 6\n",
      "digite o número total de faltas do aluno: 0\n",
      "Resultado: Aluno em Recuperação\n",
      "digite a nota da prova final: 10\n",
      "\n",
      "digite o nome do aluno: davi\n",
      "digite a nota da primeira prova: 4\n",
      "digite a nota da segunda prova: 5\n",
      "digite o número total de faltas do aluno: 2\n",
      "Resultado: Aluno em Recuperação\n",
      "digite a nota da prova final: 10\n",
      "\n",
      "digite o nome do aluno: deborah\n",
      "digite a nota da primeira prova: 8\n",
      "digite a nota da segunda prova: 9\n",
      "digite o número total de faltas do aluno: 0\n",
      "\n",
      "digite o nome do aluno: dianna\n",
      "digite a nota da primeira prova: 7.5\n",
      "digite a nota da segunda prova: 8\n",
      "digite o número total de faltas do aluno: 2\n",
      "\n",
      "digite o nome do aluno: eduardo\n",
      "digite a nota da primeira prova: 6.5\n",
      "digite a nota da segunda prova: 8\n",
      "digite o número total de faltas do aluno: 14\n",
      "\n",
      "digite o nome do aluno: emilly\n",
      "digite a nota da primeira prova: 4.5\n",
      "digite a nota da segunda prova: 6\n",
      "digite o número total de faltas do aluno: 0\n",
      "Resultado: Aluno em Recuperação\n",
      "digite a nota da prova final: 10\n",
      "\n",
      "digite o nome do aluno: emily\n",
      "digite a nota da primeira prova: 3\n",
      "digite a nota da segunda prova: 5\n",
      "digite o número total de faltas do aluno: 0\n",
      "Resultado: Aluno em Recuperação\n",
      "digite a nota da prova final: 8.5\n",
      "\n",
      "digite o nome do aluno: enrique\n",
      "digite a nota da primeira prova: 6\n",
      "digite a nota da segunda prova: 7\n",
      "digite o número total de faltas do aluno: 4\n",
      "Resultado: Aluno em Recuperação\n",
      "digite a nota da prova final: 5\n",
      "\n",
      "digite o nome do aluno: erika\n",
      "digite a nota da primeira prova: 6.5\n",
      "digite a nota da segunda prova: 8\n",
      "digite o número total de faltas do aluno: 3\n",
      "\n",
      "digite o nome do aluno: fabricio\n",
      "digite a nota da primeira prova: 6\n",
      "digite a nota da segunda prova: 6\n",
      "digite o número total de faltas do aluno: 2\n",
      "Resultado: Aluno em Recuperação\n",
      "digite a nota da prova final: 9\n",
      "\n",
      "digite o nome do aluno: gessica\n",
      "digite a nota da primeira prova: 7\n",
      "digite a nota da segunda prova: 8\n",
      "digite o número total de faltas do aluno: 9\n",
      "\n",
      "digite o nome do aluno: herberth\n",
      "digite a nota da primeira prova: 6.5\n",
      "digite a nota da segunda prova: 8\n",
      "digite o número total de faltas do aluno: 2\n",
      "\n",
      "digite o nome do aluno: iara\n",
      "digite a nota da primeira prova: 3.5\n",
      "digite a nota da segunda prova: 5\n",
      "digite o número total de faltas do aluno: 16\n",
      "\n",
      "digite o nome do aluno: isabella\n",
      "digite a nota da primeira prova: 6\n",
      "digite a nota da segunda prova: 7\n",
      "digite o número total de faltas do aluno: 0\n",
      "Resultado: Aluno em Recuperação\n",
      "digite a nota da prova final: 10\n",
      "\n",
      "digite o nome do aluno: jefferson\n",
      "digite a nota da primeira prova: 5.5\n",
      "digite a nota da segunda prova: 7\n",
      "digite o número total de faltas do aluno: 0\n",
      "Resultado: Aluno em Recuperação\n",
      "digite a nota da prova final: 9.5\n",
      "\n",
      "digite o nome do aluno: joao\n",
      "digite a nota da primeira prova: 6\n",
      "digite a nota da segunda prova: 8\n",
      "digite o número total de faltas do aluno: 9\n",
      "\n",
      "digite o nome do aluno: jorvana\n",
      "digite a nota da primeira prova: 0\n",
      "digite a nota da segunda prova: 0\n",
      "digite o número total de faltas do aluno: 36\n",
      "\n",
      "digite o nome do aluno: kassyana\n",
      "digite a nota da primeira prova: 7\n",
      "digite a nota da segunda prova: 7\n",
      "digite o número total de faltas do aluno: 3\n",
      "\n",
      "digite o nome do aluno: kayro\n",
      "digite a nota da primeira prova: 6\n",
      "digite a nota da segunda prova: 8\n",
      "digite o número total de faltas do aluno: 2\n",
      "\n",
      "digite o nome do aluno: ketery\n",
      "digite a nota da primeira prova: 5.5\n",
      "digite a nota da segunda prova: 7\n",
      "digite o número total de faltas do aluno: 4\n",
      "Resultado: Aluno em Recuperação\n",
      "digite a nota da prova final: 10\n",
      "\n",
      "digite o nome do aluno: kevin\n",
      "digite a nota da primeira prova: 7\n",
      "digite a nota da segunda prova: 8\n",
      "digite o número total de faltas do aluno: 4\n",
      "\n",
      "digite o nome do aluno: krishina\n",
      "digite a nota da primeira prova: 4\n",
      "digite a nota da segunda prova: 6\n",
      "digite o número total de faltas do aluno: 0\n",
      "Resultado: Aluno em Recuperação\n",
      "digite a nota da prova final: 9.5\n",
      "\n",
      "digite o nome do aluno: laryssa\n",
      "digite a nota da primeira prova: 5.5\n",
      "digite a nota da segunda prova: 7\n",
      "digite o número total de faltas do aluno: 2\n",
      "Resultado: Aluno em Recuperação\n",
      "digite a nota da prova final: 10\n",
      "\n",
      "digite o nome do aluno: lucas\n",
      "digite a nota da primeira prova: 5.5\n",
      "digite a nota da segunda prova: 7\n",
      "digite o número total de faltas do aluno: 9\n",
      "Resultado: Aluno em Recuperação\n",
      "digite a nota da prova final: 8\n",
      "\n",
      "digite o nome do aluno: michael\n",
      "digite a nota da primeira prova: 4.5\n",
      "digite a nota da segunda prova: 6\n",
      "digite o número total de faltas do aluno: 2\n",
      "Resultado: Aluno em Recuperação\n",
      "digite a nota da prova final: 9\n",
      "\n",
      "digite o nome do aluno: quezia\n",
      "digite a nota da primeira prova: 7.5\n",
      "digite a nota da segunda prova: 9\n",
      "digite o número total de faltas do aluno: 4\n",
      "\n",
      "digite o nome do aluno: stefani\n",
      "digite a nota da primeira prova: 6\n",
      "digite a nota da segunda prova: 7\n",
      "digite o número total de faltas do aluno: 8\n",
      "Resultado: Aluno em Recuperação\n",
      "digite a nota da prova final: 8\n",
      "\n",
      "digite o nome do aluno: vitoria\n",
      "digite a nota da primeira prova: 5\n",
      "digite a nota da segunda prova: 7\n",
      "digite o número total de faltas do aluno: 5\n",
      "Resultado: Aluno em Recuperação\n",
      "digite a nota da prova final: 4\n",
      "\n",
      "digite o nome do aluno: willian\n",
      "digite a nota da primeira prova: 5\n",
      "digite a nota da segunda prova: 6\n",
      "digite o número total de faltas do aluno: 0\n",
      "Resultado: Aluno em Recuperação\n",
      "digite a nota da prova final: 5\n",
      "\n",
      "digite o nome do aluno: yasmin\n",
      "digite a nota da primeira prova: 4\n",
      "digite a nota da segunda prova: 7\n",
      "digite o número total de faltas do aluno: 6\n",
      "Resultado: Aluno em Recuperação\n",
      "digite a nota da prova final: 5\n",
      "\n",
      "digite o nome do aluno: zinea\n",
      "digite a nota da primeira prova: 3\n",
      "digite a nota da segunda prova: 6\n",
      "digite o número total de faltas do aluno: 12\n"
     ]
    }
   ],
   "source": [
    "while repetir < alunos:\n",
    "    nome = input('\\ndigite o nome do aluno: ')\n",
    "    nomes_alunos.append(nome)\n",
    "    \n",
    "    while valid_p1 == False:\n",
    "        p1 = input('digite a nota da primeira prova: ')\n",
    "        try:\n",
    "            p1 = float(p1)\n",
    "\n",
    "            if p1 < 0 or p1 > 10:\n",
    "                print('A nota precisa estar entre 0 e 10.')\n",
    "            else:\n",
    "                valid_p1 = True\n",
    "        except:\n",
    "            print('Formato inválido. Use apenas números e decimais separados por ponto.')\n",
    "        p1_alunos.append(p1)\n",
    "        \n",
    "        \n",
    "    while valid_p2 == False:\n",
    "        p2 = input('digite a nota da segunda prova: ')\n",
    "        try:\n",
    "            p2 = float(p2)\n",
    "\n",
    "            if p2 < 0 or p2 > 10:\n",
    "                print('A nota precisa estar entre 0 e 10.')\n",
    "            else:\n",
    "                valid_p2 = True\n",
    "        except:\n",
    "            print('Formato inválido. Use apenas números e decimais separados por ponto.')\n",
    "        p2_alunos.append(p2)\n",
    "        \n",
    "        \n",
    "    while valid_faltas == False:\n",
    "        faltas = input('digite o número total de faltas do aluno: ')\n",
    "        try:\n",
    "            faltas = int(faltas)\n",
    "\n",
    "            if faltas < 0 or faltas > aulas:\n",
    "                print('O número de faltas não pode ser menor que 0 ou maior que o número de aulas.')\n",
    "            else:\n",
    "                valid_faltas = True\n",
    "        except:\n",
    "            print('Formato inválido. Use apenas números inteiros, sem decimais.')\n",
    "\n",
    "    assiduidade = round(((aulas-faltas)*100)/aulas,2)\n",
    "    media = round((peso1*p1 + peso2*p2)/(peso1+peso2),2)\n",
    "    \n",
    "    if assiduidade >= 70:\n",
    "        if media>=7:\n",
    "            resultado = ('Aluno Aprovado')\n",
    "            \n",
    "        elif media <4:\n",
    "            resultado = ('Aluno Reprovado por média')\n",
    "            \n",
    "        else:\n",
    "            print('Resultado: Aluno em Recuperação')\n",
    "            \n",
    "            while valid_pr == False:\n",
    "                pr = input('digite a nota da prova final: ')\n",
    "                try:\n",
    "                    pr = float(pr)\n",
    "\n",
    "                    if pr < 0 or pr > 10:\n",
    "                        print('A nota precisa estar entre 0 e 10.')\n",
    "                    else:\n",
    "                        valid_pr = True\n",
    "                except:\n",
    "                    print('Formato inválido. Use apenas números e decimais separados por ponto.')\n",
    "                pr_alunos.append(pr)\n",
    "\n",
    "            media = float(round((media + pr)/2,2))\n",
    "            \n",
    "            if media>=5:\n",
    "                resultado = ('Aluno Aprovado')\n",
    "            \n",
    "            else:\n",
    "                resultado = ('Aluno Reprovado por média')\n",
    "            \n",
    "    elif assiduidade < 70:\n",
    "        if  media >= 5:\n",
    "            resultado = ('Aluno Reprovado por faltas')\n",
    "            \n",
    "        else:\n",
    "            resultado = ('Aluno Reprovado por faltas e por média')\n",
    "            \n",
    "    else:\n",
    "        print('dados inválidos')\n",
    "        \n",
    "    \n",
    "    nf_alunos.append(media)\n",
    "    assid_alunos.append(assiduidade)\n",
    "    result_alunos.append(resultado)\n",
    "    \n",
    "    total += media\n",
    "    \n",
    "    valid_nota = False\n",
    "    valid_peso1 = False\n",
    "    valid_peso2 = False\n",
    "    valid_p1 = False\n",
    "    valid_p2 = False\n",
    "    valid_aulas = False\n",
    "    valid_faltas = False\n",
    "    valid_pr = False\n",
    "    \n",
    "    repetir += 1"
   ]
  },
  {
   "cell_type": "code",
   "execution_count": 11,
   "metadata": {},
   "outputs": [],
   "source": [
    "linhas=[]\n",
    "x=1\n",
    "\n",
    "while x <= alunos:\n",
    "    \n",
    "    linhas.append(x)\n",
    "    x= x+1\n",
    "\n"
   ]
  },
  {
   "cell_type": "code",
   "execution_count": 12,
   "metadata": {},
   "outputs": [],
   "source": [
    "df = pd.DataFrame({'Nº_chamada':linhas,\n",
    "                  'Nome':nomes_alunos,\n",
    "                  'Prova 1':p1_alunos,\n",
    "                  'Prova 2':p2_alunos,\n",
    "                  'Nota Final':nf_alunos,\n",
    "                  'Assiduidade(%)':assid_alunos,\n",
    "                  'Resultado':result_alunos})\n",
    "\n",
    "\n",
    "data_atual = date.today()"
   ]
  },
  {
   "cell_type": "code",
   "execution_count": 13,
   "metadata": {},
   "outputs": [
    {
     "name": "stdout",
     "output_type": "stream",
     "text": [
      "Professor: Nelma R.\n",
      "Disciplina: Língua Portuguesa\n",
      "Turma: 92\n",
      "Nº de alunos: 32\n",
      "Data: 2020-03-15\n",
      "Média da turma:  6.77\n",
      " \n",
      "    Nº_chamada       Nome  Prova 1  Prova 2  Nota Final  Assiduidade(%)  \\\n",
      "0            1     allana      4.5      6.0        7.12           86.11   \n",
      "1            2     arthur      4.0      6.0        7.50          100.00   \n",
      "2            3       davi      4.0      5.0        7.25           94.44   \n",
      "3            4    deborah      8.0      9.0        8.50          100.00   \n",
      "4            5     dianna      7.5      8.0        7.75           94.44   \n",
      "5            6    eduardo      6.5      8.0        7.25           61.11   \n",
      "6            7     emilly      4.5      6.0        7.62          100.00   \n",
      "7            8      emily      3.0      5.0        6.25          100.00   \n",
      "8            9    enrique      6.0      7.0        5.75           88.89   \n",
      "9           10      erika      6.5      8.0        7.25           91.67   \n",
      "10          11   fabricio      6.0      6.0        7.50           94.44   \n",
      "11          12    gessica      7.0      8.0        7.50           75.00   \n",
      "12          13   herberth      6.5      8.0        7.25           94.44   \n",
      "13          14       iara      3.5      5.0        4.25           55.56   \n",
      "14          15   isabella      6.0      7.0        8.25          100.00   \n",
      "15          16  jefferson      5.5      7.0        7.88          100.00   \n",
      "16          17       joao      6.0      8.0        7.00           75.00   \n",
      "17          18    jorvana      0.0      0.0        0.00            0.00   \n",
      "18          19   kassyana      7.0      7.0        7.00           91.67   \n",
      "19          20      kayro      6.0      8.0        7.00           94.44   \n",
      "20          21     ketery      5.5      7.0        8.12           88.89   \n",
      "21          22      kevin      7.0      8.0        7.50           88.89   \n",
      "22          23   krishina      4.0      6.0        7.25          100.00   \n",
      "23          24    laryssa      5.5      7.0        8.12           94.44   \n",
      "24          25      lucas      5.5      7.0        7.12           75.00   \n",
      "25          26    michael      4.5      6.0        7.12           94.44   \n",
      "26          27     quezia      7.5      9.0        8.25           88.89   \n",
      "27          28    stefani      6.0      7.0        7.25           77.78   \n",
      "28          29    vitoria      5.0      7.0        5.00           86.11   \n",
      "29          30    willian      5.0      6.0        5.25          100.00   \n",
      "30          31     yasmin      4.0      7.0        5.25           83.33   \n",
      "31          32      zinea      3.0      6.0        4.50           66.67   \n",
      "\n",
      "                                 Resultado  \n",
      "0                           Aluno Aprovado  \n",
      "1                           Aluno Aprovado  \n",
      "2                           Aluno Aprovado  \n",
      "3                           Aluno Aprovado  \n",
      "4                           Aluno Aprovado  \n",
      "5               Aluno Reprovado por faltas  \n",
      "6                           Aluno Aprovado  \n",
      "7                           Aluno Aprovado  \n",
      "8                           Aluno Aprovado  \n",
      "9                           Aluno Aprovado  \n",
      "10                          Aluno Aprovado  \n",
      "11                          Aluno Aprovado  \n",
      "12                          Aluno Aprovado  \n",
      "13  Aluno Reprovado por faltas e por média  \n",
      "14                          Aluno Aprovado  \n",
      "15                          Aluno Aprovado  \n",
      "16                          Aluno Aprovado  \n",
      "17  Aluno Reprovado por faltas e por média  \n",
      "18                          Aluno Aprovado  \n",
      "19                          Aluno Aprovado  \n",
      "20                          Aluno Aprovado  \n",
      "21                          Aluno Aprovado  \n",
      "22                          Aluno Aprovado  \n",
      "23                          Aluno Aprovado  \n",
      "24                          Aluno Aprovado  \n",
      "25                          Aluno Aprovado  \n",
      "26                          Aluno Aprovado  \n",
      "27                          Aluno Aprovado  \n",
      "28                          Aluno Aprovado  \n",
      "29                          Aluno Aprovado  \n",
      "30                          Aluno Aprovado  \n",
      "31  Aluno Reprovado por faltas e por média  \n"
     ]
    }
   ],
   "source": [
    "print('Professor:',professor)\n",
    "print('Disciplina:',disciplina)\n",
    "print('Turma:',turma)\n",
    "print('Nº de alunos:',alunos)\n",
    "print('Data:',data_atual)\n",
    "print('Média da turma: ',round(total/alunos,2))\n",
    "print(' ')\n",
    "\n",
    "print(df)"
   ]
  },
  {
   "cell_type": "code",
   "execution_count": 14,
   "metadata": {},
   "outputs": [],
   "source": [
    "df.to_excel('Exemplo_Excel.xlsx',sheet_name='Sheet1')"
   ]
  },
  {
   "cell_type": "code",
   "execution_count": 50,
   "metadata": {},
   "outputs": [
    {
     "data": {
      "text/plain": [
       "Text(0.5, 1.0, 'Notas da Prova 2')"
      ]
     },
     "execution_count": 50,
     "metadata": {},
     "output_type": "execute_result"
    },
    {
     "data": {
      "image/png": "[encoded data removed]",
      "text/plain": [
       "<Figure size 432x288 with 2 Axes>"
      ]
     },
     "metadata": {},
     "output_type": "display_data"
    }
   ],
   "source": [
    "fig, axs= plt.subplots(1, 2, sharey=True, tight_layout=True)\n",
    "\n",
    "axs[0].hist(df['Prova 1'], bins = 20, ec = \"k\", alpha = .7, color = \"royalblue\") ##ec = cor da margem da célula\n",
    "axs[1].hist(df['Prova 2'], bins = 20, ec = \"k\", alpha = .7, color = \"green\")  ## alpha = transparência da célula (0-1)\n",
    "\n",
    "axs[0].set_xlabel('Notas')\n",
    "axs[0].set_ylabel('Contagem')\n",
    "axs[0].set_title('Notas da Prova 1')\n",
    "\n",
    "axs[1].set_xlabel('Notas')\n",
    "axs[1].set_ylabel('Contagem')\n",
    "axs[1].set_title('Notas da Prova 2')\n",
    "\n"
   ]
  },
  {
   "cell_type": "code",
   "execution_count": null,
   "metadata": {},
   "outputs": [],
   "source": [
    "fig.savefig('graficosP1xP2.png')"
   ]
  },
  {
   "cell_type": "code",
   "execution_count": 60,
   "metadata": {},
   "outputs": [
    {
     "data": {
      "text/plain": [
       "<matplotlib.legend.Legend at 0x26137d59220>"
      ]
     },
     "execution_count": 60,
     "metadata": {},
     "output_type": "execute_result"
    },
    {
     "data": {
      "image/png": "[encoded data removed]",
      "text/plain": [
       "<Figure size 1728x576 with 2 Axes>"
      ]
     },
     "metadata": {},
     "output_type": "display_data"
    }
   ],
   "source": [
    "count = df[\"Resultado\"].value_counts().values\n",
    "resultados = df[\"Resultado\"].value_counts().index\n",
    "count2 = df[\"Nota Final\"].value_counts().values\n",
    "nf =  df[\"Nota Final\"].value_counts().index\n",
    "\n",
    "fig2 = plt.figure(figsize = (24, 8))\n",
    "\n",
    "plt.subplot(1, 2, 1)\n",
    "plt.bar(nf, count2, ec = \"royalblue\", alpha = 1, color = \"royalblue\")\n",
    "##df['Nota Final'].hist(bins = 20, ec = \"k\", alpha = .6, color = \"royalblue\")\n",
    "plt.title(\"Distribuição das notas em física\")\n",
    "plt.xlabel(\"Notas\")\n",
    "plt.ylabel(\"Contagem\")\n",
    "\n",
    "plt.subplot(1, 2, 2)\n",
    "plt.pie(count, \n",
    "        labels = list(resultados),  \n",
    "        colors = [\"#20257c\", \"#424ad1\", \"#6a8ee8\", \"#66bbe2\"],\n",
    "        labeldistance = 1.1,\n",
    "        explode = [.05, .06, .072],\n",
    "        wedgeprops = {\"ec\": \"k\"}, \n",
    "        textprops = {\"fontsize\": 16}, \n",
    "        )\n",
    "plt.axis(\"equal\")\n",
    "plt.title(\"Resultado final da disciplina de física\")\n",
    "plt.legend()"
   ]
  },
  {
   "cell_type": "code",
   "execution_count": 61,
   "metadata": {},
   "outputs": [],
   "source": [
    "fig2.savefig('grafico_result.png')"
   ]
  },
  {
   "cell_type": "code",
   "execution_count": null,
   "metadata": {},
   "outputs": [],
   "source": [
    "print('fim do programa')"
   ]
  }
 ],
 "metadata": {
  "kernelspec": {
   "display_name": "Python 3",
   "language": "python",
   "name": "python3"
  },
  "language_info": {
   "codemirror_mode": {
    "name": "ipython",
    "version": 3
   },
   "file_extension": ".py",
   "mimetype": "text/x-python",
   "name": "python",
   "nbconvert_exporter": "python",
   "pygments_lexer": "ipython3",
   "version": "3.8.2"
  }
 },
 "nbformat": 4,
 "nbformat_minor": 4
}
